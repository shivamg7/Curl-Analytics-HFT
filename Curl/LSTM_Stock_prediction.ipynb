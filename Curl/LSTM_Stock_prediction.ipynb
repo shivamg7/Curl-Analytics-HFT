{
  "nbformat": 4,
  "nbformat_minor": 0,
  "metadata": {
    "colab": {
      "name": "LSTM_Stock_prediction.ipynb",
      "version": "0.3.2",
      "provenance": [],
      "collapsed_sections": [],
      "toc_visible": true
    },
    "kernelspec": {
      "name": "python2",
      "display_name": "Python 2"
    },
    "accelerator": "GPU"
  },
  "cells": [
    {
      "metadata": {
        "id": "NGduwYp-rFcE",
        "colab_type": "code",
        "colab": {}
      },
      "cell_type": "code",
      "source": [
        "def plot_results_multiple(predicted_data, true_data, prediction_len):\n",
        "    fig = plt.figure(facecolor='white')\n",
        "    ax = fig.add_subplot(111)\n",
        "    ax.plot(true_data, label='True Data')\n",
        "    print 'yo'\n",
        "    #Pad the list of predictions to shift it in the graph to it's correct start\n",
        "    for i, data in enumerate(predicted_data):\n",
        "        padding = [None for p in xrange(i * prediction_len)]\n",
        "        plt.plot(padding + data, label='Prediction')\n",
        "        plt.legend()\n",
        "    plt.show()\n",
        "    \n",
        "def normalise_windows(window_data):\n",
        "    normalised_data = []\n",
        "    for window in window_data:\n",
        "        normalised_window = [((float(p) / float(window[0])) - 1) for p in window]\n",
        "        normalised_data.append(normalised_window)\n",
        "    return normalised_data\n",
        "\n",
        "def load_data(filename, seq_len, normalise_window):\n",
        "    \n",
        "    df = pd.read_csv(filename)\n",
        "    df = df[\"Close\"]\n",
        "    df = df.iloc[1:]\n",
        "    data = np.array(df)\n",
        "    \n",
        "    close_ = []    \n",
        "    sequence_length = seq_len \n",
        "    result = []\n",
        "    for index in range(len(data) - sequence_length):\n",
        "        result.append(data[index: index + sequence_length])\n",
        "        close_.append(data[index+sequence_length])\n",
        "        \n",
        "        \n",
        "    \n",
        "    y_values = [row[0] for row in result]\n",
        "    y_values = np.array(y_values)\n",
        "    print(y_values)\n",
        "\n",
        "    \n",
        "    \n",
        "    if normalise_window:\n",
        "        result = normalise_windows(result)\n",
        "\n",
        "    result = np.array(result)\n",
        "    \n",
        "    #result = np.array(df)\n",
        "    print(result.shape)\n",
        "    \n",
        "    row = round(0.9 * len(result))\n",
        "    #train = result[:int(row)]\n",
        "    \n",
        "    \n",
        "    train = result[:int(row), :]\n",
        "    #np.random.shuffle(train)\n",
        "    x_train = train[:, :-1]\n",
        "    y_train = train[:, -1]\n",
        "    #y_train = np.roll(y_train, shift=-10)\n",
        "    x_test = result[int(row):, :-1]\n",
        "    close_ = close_[int(row):]\n",
        "    close_ = np.array(close_)\n",
        "\n",
        "    y_test = result[int(row):, -1]\n",
        "    #y_test = np.roll(y_test, shift=-10)\n",
        "    \n",
        "    print(\"Train Shape\" ,train.shape)\n",
        "    \n",
        "    #print(train)\n",
        "    #print(row)\n",
        "    #np.random.shuffle(train)\n",
        "    \n",
        "    \n",
        "    x_train = np.reshape(x_train, (x_train.shape[0], x_train.shape[1], 1))\n",
        "    x_test = np.reshape(x_test, (x_test.shape[0], x_test.shape[1], 1))  \n",
        "\n",
        "    #print((x_train))\n",
        "    #print((y_train))\n",
        "    #print(x_test)\n",
        "    #print(y_test)\n",
        "\n",
        "    return [x_train, y_train, x_test, y_test, y_values, close_]\n",
        "\n",
        "def build_model(layers):\n",
        "    model = Sequential()\n",
        "\n",
        "    model.add(LSTM(\n",
        "        input_dim=layers[0],\n",
        "        output_dim=layers[1],\n",
        "        return_sequences=True))\n",
        "    model.add(Dropout(0.2))\n",
        "\n",
        "    model.add(LSTM(\n",
        "        layers[2],\n",
        "        return_sequences=False))\n",
        "    model.add(Dropout(0.2))\n",
        "\n",
        "    model.add(Dense(\n",
        "        output_dim=layers[3]))\n",
        "    model.add(Activation(\"linear\"))\n",
        "\n",
        "    start = time.time()\n",
        "    model.compile(loss=\"mse\", optimizer=\"rmsprop\")\n",
        "    print \"Compilation Time : \", time.time() - start\n",
        "    return model\n",
        "\n",
        "def predict_point_by_point(model, data):\n",
        "    #Predict each timestep given the last sequence of true data, in effect only predicting 1 step ahead each time\n",
        "    predicted = model.predict(data)\n",
        "    predicted = np.reshape(predicted, (predicted.size,))\n",
        "    return predicted\n",
        "\n",
        "def predict_sequence_full(model, data, window_size):\n",
        "    #Shift the window by 1 new prediction each time, re-run predictions on new window\n",
        "    curr_frame = data[0]\n",
        "    predicted = []\n",
        "    for i in xrange(len(data)):\n",
        "        predicted.append(model.predict(curr_frame[newaxis,:,:])[0,0])\n",
        "        curr_frame = curr_frame[1:]\n",
        "        curr_frame = np.insert(curr_frame, [window_size-1], predicted[-1], axis=0)\n",
        "    return predicted\n",
        "\n",
        "def predict_sequences_multiple(model, data, window_size, prediction_len):\n",
        "    #Predict sequence of 50 steps before shifting prediction run forward by 50 steps\n",
        "    prediction_seqs = []\n",
        "    for i in xrange(len(data)/prediction_len):\n",
        "        curr_frame = data[i*prediction_len]\n",
        "        print(\"Curr_frame\",curr_frame.shape)\n",
        "        predicted = []\n",
        "        for j in xrange(prediction_len):\n",
        "            predicted.append(model.predict(curr_frame[newaxis,:,:])[0,0])\n",
        "            print(\"Predicted \",predicted[0])\n",
        "            curr_frame = curr_frame[1:]\n",
        "            curr_frame = np.insert(curr_frame, [window_size-1], predicted[-1], axis=1)\n",
        "        prediction_seqs.append(predicted)\n",
        "    return prediction_seqs"
      ],
      "execution_count": 0,
      "outputs": []
    },
    {
      "metadata": {
        "id": "51-HP73_rd8D",
        "colab_type": "code",
        "colab": {}
      },
      "cell_type": "code",
      "source": [
        "from keras.layers.core import Dense, Activation, Dropout\n",
        "from keras.layers.recurrent import LSTM\n",
        "from keras.models import Sequential\n",
        "import time\n",
        "import pandas as pd\n",
        "import matplotlib.pyplot as plt\n",
        "from numpy import newaxis\n",
        "plt.style.use('ggplot')"
      ],
      "execution_count": 0,
      "outputs": []
    },
    {
      "metadata": {
        "id": "-RFMaXIFrHJj",
        "colab_type": "code",
        "colab": {
          "base_uri": "https://localhost:8080/",
          "height": 68
        },
        "outputId": "6740ec80-31f6-4cc2-d374-1060bf831d10"
      },
      "cell_type": "code",
      "source": [
        "import numpy as np\n",
        "#Step 1 Load Data\n",
        "x_train, y_train, x_test, y_test, y_values, close_ = load_data('Nifty_Techathlon_converted_prks.csv', 10, True)"
      ],
      "execution_count": 159,
      "outputs": [
        {
          "output_type": "stream",
          "text": [
            "[ 8523.05  8530.25  8526.55 ... 10137.35 10135.35 10115.  ]\n",
            "(55789, 10)\n",
            "('Train Shape', (50210, 10))\n"
          ],
          "name": "stdout"
        }
      ]
    },
    {
      "metadata": {
        "id": "0gxdyRhRPWEB",
        "colab_type": "code",
        "colab": {
          "base_uri": "https://localhost:8080/",
          "height": 510
        },
        "outputId": "1c91b650-4ab3-4bb2-82f4-4bed41570f76"
      },
      "cell_type": "code",
      "source": [
        "print(x_train[:3])"
      ],
      "execution_count": 39,
      "outputs": [
        {
          "output_type": "stream",
          "text": [
            "[[[8523.05]\n",
            "  [8530.25]\n",
            "  [8526.55]\n",
            "  [8527.  ]\n",
            "  [8519.9 ]\n",
            "  [8523.55]\n",
            "  [8528.3 ]\n",
            "  [8526.  ]\n",
            "  [8528.8 ]]\n",
            "\n",
            " [[8530.25]\n",
            "  [8526.55]\n",
            "  [8527.  ]\n",
            "  [8519.9 ]\n",
            "  [8523.55]\n",
            "  [8528.3 ]\n",
            "  [8526.  ]\n",
            "  [8528.8 ]\n",
            "  [8529.85]]\n",
            "\n",
            " [[8526.55]\n",
            "  [8527.  ]\n",
            "  [8519.9 ]\n",
            "  [8523.55]\n",
            "  [8528.3 ]\n",
            "  [8526.  ]\n",
            "  [8528.8 ]\n",
            "  [8529.85]\n",
            "  [8527.55]]]\n"
          ],
          "name": "stdout"
        }
      ]
    },
    {
      "metadata": {
        "id": "1J7uvuYwZA4l",
        "colab_type": "code",
        "colab": {
          "base_uri": "https://localhost:8080/",
          "height": 34
        },
        "outputId": "aed28006-fb1b-4b39-82c0-7ee3b0cafb27"
      },
      "cell_type": "code",
      "source": [
        "print(y_train[:2])"
      ],
      "execution_count": 40,
      "outputs": [
        {
          "output_type": "stream",
          "text": [
            "[8529.85 8527.55]\n"
          ],
          "name": "stdout"
        }
      ]
    },
    {
      "metadata": {
        "id": "mdxjqzqXK7Pa",
        "colab_type": "code",
        "colab": {
          "base_uri": "https://localhost:8080/",
          "height": 181
        },
        "outputId": "37500e1f-c4e5-4d88-98d2-6a5db94d549b"
      },
      "cell_type": "code",
      "source": [
        "x_train = np.reshape(x_train, (x_train.shape[0], x_train.shape[1], 1))\n",
        "x_test = np.reshape(x_test, (x_test.shape[0], x_test.shape[1], 1)) "
      ],
      "execution_count": 41,
      "outputs": [
        {
          "output_type": "error",
          "ename": "IndexError",
          "evalue": "ignored",
          "traceback": [
            "\u001b[0;31m\u001b[0m",
            "\u001b[0;31mIndexError\u001b[0mTraceback (most recent call last)",
            "\u001b[0;32m<ipython-input-41-6d09e41890bf>\u001b[0m in \u001b[0;36m<module>\u001b[0;34m()\u001b[0m\n\u001b[0;32m----> 1\u001b[0;31m \u001b[0mx_train\u001b[0m \u001b[0;34m=\u001b[0m \u001b[0mnp\u001b[0m\u001b[0;34m.\u001b[0m\u001b[0mreshape\u001b[0m\u001b[0;34m(\u001b[0m\u001b[0mx_train\u001b[0m\u001b[0;34m,\u001b[0m \u001b[0;34m(\u001b[0m\u001b[0mx_train\u001b[0m\u001b[0;34m.\u001b[0m\u001b[0mshape\u001b[0m\u001b[0;34m[\u001b[0m\u001b[0;36m0\u001b[0m\u001b[0;34m]\u001b[0m\u001b[0;34m,\u001b[0m \u001b[0mx_train\u001b[0m\u001b[0;34m.\u001b[0m\u001b[0mshape\u001b[0m\u001b[0;34m[\u001b[0m\u001b[0;36m1\u001b[0m\u001b[0;34m]\u001b[0m\u001b[0;34m,\u001b[0m \u001b[0;36m1\u001b[0m\u001b[0;34m)\u001b[0m\u001b[0;34m)\u001b[0m\u001b[0;34m\u001b[0m\u001b[0m\n\u001b[0m\u001b[1;32m      2\u001b[0m \u001b[0mx_test\u001b[0m \u001b[0;34m=\u001b[0m \u001b[0mnp\u001b[0m\u001b[0;34m.\u001b[0m\u001b[0mreshape\u001b[0m\u001b[0;34m(\u001b[0m\u001b[0mx_test\u001b[0m\u001b[0;34m,\u001b[0m \u001b[0;34m(\u001b[0m\u001b[0mx_test\u001b[0m\u001b[0;34m.\u001b[0m\u001b[0mshape\u001b[0m\u001b[0;34m[\u001b[0m\u001b[0;36m0\u001b[0m\u001b[0;34m]\u001b[0m\u001b[0;34m,\u001b[0m \u001b[0mx_test\u001b[0m\u001b[0;34m.\u001b[0m\u001b[0mshape\u001b[0m\u001b[0;34m[\u001b[0m\u001b[0;36m1\u001b[0m\u001b[0;34m]\u001b[0m\u001b[0;34m,\u001b[0m \u001b[0;36m1\u001b[0m\u001b[0;34m)\u001b[0m\u001b[0;34m)\u001b[0m\u001b[0;34m\u001b[0m\u001b[0m\n",
            "\u001b[0;31mIndexError\u001b[0m: tuple index out of range"
          ]
        }
      ]
    },
    {
      "metadata": {
        "id": "fZJUy78DYoa-",
        "colab_type": "code",
        "colab": {}
      },
      "cell_type": "code",
      "source": [
        ""
      ],
      "execution_count": 0,
      "outputs": []
    },
    {
      "metadata": {
        "id": "cUrQJ2nUrpcV",
        "colab_type": "code",
        "colab": {
          "base_uri": "https://localhost:8080/",
          "height": 156
        },
        "outputId": "9f0bdbb4-9814-4597-f9a0-f63d6a832314"
      },
      "cell_type": "code",
      "source": [
        "#Initialize model \n",
        "model = Sequential()\n",
        "\n",
        "model.add(LSTM(\n",
        "    input_dim=1,\n",
        "    output_dim=50,\n",
        "    return_sequences=True))\n",
        "model.add(Dropout(0.2))\n",
        "\n",
        "model.add(LSTM(\n",
        "    100,\n",
        "    return_sequences=False))\n",
        "model.add(Dropout(0.2))\n",
        "\n",
        "model.add(Dense(output_dim=1))\n",
        "\n",
        "model.add(Activation('linear'))\n",
        "\n",
        "start = time.time()\n",
        "model.compile(loss='mse', optimizer='rmsprop')\n",
        "print 'compilation time : ', time.time() - start"
      ],
      "execution_count": 128,
      "outputs": [
        {
          "output_type": "stream",
          "text": [
            "/usr/local/lib/python2.7/dist-packages/ipykernel_launcher.py:6: UserWarning: The `input_dim` and `input_length` arguments in recurrent layers are deprecated. Use `input_shape` instead.\n",
            "  \n",
            "/usr/local/lib/python2.7/dist-packages/ipykernel_launcher.py:6: UserWarning: Update your `LSTM` call to the Keras 2 API: `LSTM(units=50, return_sequences=True, input_shape=(None, 1))`\n",
            "  \n"
          ],
          "name": "stderr"
        },
        {
          "output_type": "stream",
          "text": [
            "compilation time :  0.0237050056458\n"
          ],
          "name": "stdout"
        },
        {
          "output_type": "stream",
          "text": [
            "/usr/local/lib/python2.7/dist-packages/ipykernel_launcher.py:14: UserWarning: Update your `Dense` call to the Keras 2 API: `Dense(units=1)`\n",
            "  \n"
          ],
          "name": "stderr"
        }
      ]
    },
    {
      "metadata": {
        "id": "MOTPwnz8rr8J",
        "colab_type": "code",
        "colab": {
          "base_uri": "https://localhost:8080/",
          "height": 714
        },
        "outputId": "6e2d198c-2d8b-4f84-d1c5-bf44d1b30754"
      },
      "cell_type": "code",
      "source": [
        "#Atleast 10 epochs\n",
        "model.fit(x_train,y_train,epochs=15)"
      ],
      "execution_count": 130,
      "outputs": [
        {
          "output_type": "stream",
          "text": [
            "Epoch 1/20\n",
            "50210/50210 [==============================] - 75s 1ms/step - loss: 8.4098e-06\n",
            "Epoch 2/20\n",
            "50210/50210 [==============================] - 75s 1ms/step - loss: 2.7561e-06\n",
            "Epoch 3/20\n",
            "50210/50210 [==============================] - 75s 1ms/step - loss: 2.3298e-06\n",
            "Epoch 4/20\n",
            "50210/50210 [==============================] - 74s 1ms/step - loss: 2.1142e-06\n",
            "Epoch 5/20\n",
            "50210/50210 [==============================] - 74s 1ms/step - loss: 1.9934e-06\n",
            "Epoch 6/20\n",
            "50210/50210 [==============================] - 75s 1ms/step - loss: 1.9003e-06\n",
            "Epoch 7/20\n",
            "50210/50210 [==============================] - 74s 1ms/step - loss: 1.8081e-06\n",
            "Epoch 8/20\n",
            "50210/50210 [==============================] - 75s 1ms/step - loss: 1.7500e-06\n",
            "Epoch 9/20\n",
            "50210/50210 [==============================] - 75s 1ms/step - loss: 1.7243e-06\n",
            "Epoch 10/20\n",
            "50210/50210 [==============================] - 75s 1ms/step - loss: 1.6889e-06\n",
            "Epoch 11/20\n",
            "50210/50210 [==============================] - 75s 1ms/step - loss: 1.6379e-06\n",
            "Epoch 12/20\n",
            "50210/50210 [==============================] - 75s 1ms/step - loss: 1.6330e-06\n",
            "Epoch 13/20\n",
            "50210/50210 [==============================] - 75s 1ms/step - loss: 1.5967e-06\n",
            "Epoch 14/20\n",
            "50210/50210 [==============================] - 75s 1ms/step - loss: 1.5867e-06\n",
            "Epoch 15/20\n",
            "50210/50210 [==============================] - 75s 1ms/step - loss: 1.6024e-06\n",
            "Epoch 16/20\n",
            "50210/50210 [==============================] - 74s 1ms/step - loss: 1.5530e-06\n",
            "Epoch 17/20\n",
            "50210/50210 [==============================] - 75s 1ms/step - loss: 1.5535e-06\n",
            "Epoch 18/20\n",
            "50210/50210 [==============================] - 75s 1ms/step - loss: 1.5435e-06\n",
            "Epoch 19/20\n",
            "50210/50210 [==============================] - 75s 1ms/step - loss: 1.5396e-06\n",
            "Epoch 20/20\n",
            "50210/50210 [==============================] - 74s 1ms/step - loss: 1.5302e-06\n"
          ],
          "name": "stdout"
        },
        {
          "output_type": "execute_result",
          "data": {
            "text/plain": [
              "<keras.callbacks.History at 0x7fde5c9da8d0>"
            ]
          },
          "metadata": {
            "tags": []
          },
          "execution_count": 130
        }
      ]
    },
    {
      "metadata": {
        "id": "BFpc2y_eK0rG",
        "colab_type": "code",
        "colab": {
          "base_uri": "https://localhost:8080/",
          "height": 340
        },
        "outputId": "be8cfd96-1a56-4853-e51d-602fd0355946"
      },
      "cell_type": "code",
      "source": [
        "model.summary()"
      ],
      "execution_count": 67,
      "outputs": [
        {
          "output_type": "stream",
          "text": [
            "_________________________________________________________________\n",
            "Layer (type)                 Output Shape              Param #   \n",
            "=================================================================\n",
            "lstm_9 (LSTM)                (None, None, 50)          10400     \n",
            "_________________________________________________________________\n",
            "dropout_9 (Dropout)          (None, None, 50)          0         \n",
            "_________________________________________________________________\n",
            "lstm_10 (LSTM)               (None, 100)               60400     \n",
            "_________________________________________________________________\n",
            "dropout_10 (Dropout)         (None, 100)               0         \n",
            "_________________________________________________________________\n",
            "dense_5 (Dense)              (None, 1)                 101       \n",
            "_________________________________________________________________\n",
            "activation_5 (Activation)    (None, 1)                 0         \n",
            "=================================================================\n",
            "Total params: 70,901\n",
            "Trainable params: 70,901\n",
            "Non-trainable params: 0\n",
            "_________________________________________________________________\n"
          ],
          "name": "stdout"
        }
      ]
    },
    {
      "metadata": {
        "id": "Fz0qpmJBMHKu",
        "colab_type": "code",
        "colab": {}
      },
      "cell_type": "code",
      "source": [
        "predictions = predict_point_by_point(model, x_test)"
      ],
      "execution_count": 0,
      "outputs": []
    },
    {
      "metadata": {
        "id": "NRsRJwVOjbV2",
        "colab_type": "code",
        "colab": {}
      },
      "cell_type": "code",
      "source": [
        "#Get predictions for normalised test data\n",
        "predictions = model.predict(x_test)"
      ],
      "execution_count": 0,
      "outputs": []
    },
    {
      "metadata": {
        "id": "K8S7kYmGkEDs",
        "colab_type": "code",
        "colab": {}
      },
      "cell_type": "code",
      "source": [
        "#Define a cost function for our predictiona\n",
        "def cost(y, h):\n",
        "  c = 0\n",
        "  for i in range(len(y)):\n",
        "    c += (h[i] - y[i])**2\n",
        "  c = c / len(y)\n",
        "  return c"
      ],
      "execution_count": 0,
      "outputs": []
    },
    {
      "metadata": {
        "id": "gBrAfE9akjzs",
        "colab_type": "code",
        "colab": {
          "base_uri": "https://localhost:8080/",
          "height": 34
        },
        "outputId": "22daa019-0585-44e4-8251-20300ee04279"
      },
      "cell_type": "code",
      "source": [
        "#Variance for our model\n",
        "cost(predictions, y_test)"
      ],
      "execution_count": 82,
      "outputs": [
        {
          "output_type": "execute_result",
          "data": {
            "text/plain": [
              "array([1.2579177e-06], dtype=float32)"
            ]
          },
          "metadata": {
            "tags": []
          },
          "execution_count": 82
        }
      ]
    },
    {
      "metadata": {
        "id": "Ud2D6rwjknFx",
        "colab_type": "code",
        "colab": {
          "base_uri": "https://localhost:8080/",
          "height": 364
        },
        "outputId": "bc56f141-c73e-4402-a639-fac1c2e3311c"
      },
      "cell_type": "code",
      "source": [
        "#Plot and visualize the predicted Value\n",
        "plt.plot(predictions,'r')\n",
        "plt.plot(y_test,'b')\n",
        "plt.xlim([1000,1100])\n",
        "plt.ylim([-0.005,0.005])"
      ],
      "execution_count": 138,
      "outputs": [
        {
          "output_type": "execute_result",
          "data": {
            "text/plain": [
              "(-0.005, 0.005)"
            ]
          },
          "metadata": {
            "tags": []
          },
          "execution_count": 138
        },
        {
          "output_type": "display_data",
          "data": {
            "image/png": "[encoded data removed]",
            "text/plain": [
              "<matplotlib.figure.Figure at 0x7fde5d55a610>"
            ]
          },
          "metadata": {
            "tags": []
          }
        }
      ]
    },
    {
      "metadata": {
        "id": "ge5MgdAllKft",
        "colab_type": "code",
        "colab": {
          "base_uri": "https://localhost:8080/",
          "height": 34
        },
        "outputId": "205203d3-696e-48a9-b8d4-f17497507d50"
      },
      "cell_type": "code",
      "source": [
        "#Variance for our model\n",
        "cost(predictions, y_test)"
      ],
      "execution_count": 135,
      "outputs": [
        {
          "output_type": "execute_result",
          "data": {
            "text/plain": [
              "1.8819639984781836e-06"
            ]
          },
          "metadata": {
            "tags": []
          },
          "execution_count": 135
        }
      ]
    },
    {
      "metadata": {
        "id": "9uBSNBlmvMRy",
        "colab_type": "code",
        "colab": {
          "base_uri": "https://localhost:8080/",
          "height": 34
        },
        "outputId": "c22ff01e-6e79-4b86-b43d-dfd6efb37720"
      },
      "cell_type": "code",
      "source": [
        "#Standard Deviation for our model\n",
        "cost(actual_predicted, actual_true)**2"
      ],
      "execution_count": 109,
      "outputs": [
        {
          "output_type": "execute_result",
          "data": {
            "text/plain": [
              "array([7840.064], dtype=float32)"
            ]
          },
          "metadata": {
            "tags": []
          },
          "execution_count": 109
        }
      ]
    },
    {
      "metadata": {
        "id": "6VxB2AUCv7eh",
        "colab_type": "code",
        "colab": {}
      },
      "cell_type": "code",
      "source": [
        "#To get predictions in multiple steps.\n",
        "predictions = predict_sequences_multiple(model, x_test, 50, 50)"
      ],
      "execution_count": 0,
      "outputs": []
    },
    {
      "metadata": {
        "id": "OR0Uvo8jxVQu",
        "colab_type": "code",
        "colab": {}
      },
      "cell_type": "code",
      "source": [
        "#The available action space\n",
        "actions = ['Buy', 'Sell', 'Sit']\n",
        "action_nums = [-1, 1, 0]\n",
        "\n",
        "predicted_array = np.array(predictions)\n",
        "\n",
        "def sharpe(close,action):\n",
        "    returns = np.ones(len(close)-1)\n",
        "    for i in range(len(close)-1):\n",
        "        returns[i] = (close[i+1]-close[i])*action[i]/close[i]\n",
        "    return returns.mean()/returns.std()\n",
        "\n",
        "\n",
        "\n",
        "def get_sharpe(threshold):\n",
        "\n",
        "    actions_ = []\n",
        "    for i in range(len(predicted_array)-1):\n",
        "        if((predicted_array[i+1]-predicted_array[i]) > threshold):\n",
        "            actions_.append(1)\n",
        "        elif(predicted_array[i+1]-predicted_array[i] < threshold):\n",
        "            actions_.append(-1)\n",
        "        else:\n",
        "            actions_.append(0)\n",
        "    actions_.append(0)        \n",
        "    actions_ = np.array(actions_)\n",
        "    return (sharpe(close_,actions_),actions_)\n",
        "    \n",
        "    \n"
      ],
      "execution_count": 0,
      "outputs": []
    },
    {
      "metadata": {
        "id": "KPCOyHGZCH1L",
        "colab_type": "code",
        "colab": {
          "base_uri": "https://localhost:8080/",
          "height": 1439
        },
        "outputId": "4e74757f-174b-4643-e1df-aec6143458fa"
      },
      "cell_type": "code",
      "source": [
        "max_sharpe = 0\n",
        "#Method to get optimum threshold value\n",
        "for i in range(1,1000000):\n",
        "  \n",
        "  now_sharpe =get_sharpe(i*0.0000001)\n",
        "  \n",
        "  if(now_sharpe > max_sharpe):\n",
        "    max_sharpe = now_sharpe\n",
        "    threshold = i\n",
        "    print(threshold)"
      ],
      "execution_count": 179,
      "outputs": [
        {
          "output_type": "stream",
          "text": [
            "1\n",
            "35\n",
            "37\n",
            "38\n",
            "171\n",
            "173\n",
            "241\n",
            "253\n",
            "254\n",
            "256\n",
            "257\n",
            "261\n",
            "264\n",
            "267\n",
            "270\n",
            "295\n",
            "296\n",
            "297\n",
            "322\n",
            "327\n",
            "328\n",
            "343\n",
            "349\n",
            "352\n",
            "356\n",
            "2293\n",
            "2512\n",
            "2514\n",
            "2536\n",
            "2540\n",
            "2631\n",
            "2636\n",
            "2637\n",
            "2880\n",
            "2881\n",
            "2884\n",
            "2885\n",
            "2887\n",
            "2916\n",
            "2922\n",
            "2925\n",
            "4470\n",
            "4475\n",
            "4491\n",
            "4492\n",
            "4496\n",
            "4504\n",
            "4512\n",
            "4513\n",
            "4518\n",
            "4554\n",
            "4562\n",
            "4571\n",
            "4574\n",
            "4576\n",
            "4625\n",
            "4666\n",
            "4671\n",
            "4684\n",
            "4710\n",
            "4719\n",
            "4725\n",
            "4730\n",
            "4735\n"
          ],
          "name": "stdout"
        },
        {
          "output_type": "error",
          "ename": "KeyboardInterrupt",
          "evalue": "ignored",
          "traceback": [
            "\u001b[0;31m\u001b[0m",
            "\u001b[0;31mKeyboardInterrupt\u001b[0mTraceback (most recent call last)",
            "\u001b[0;32m<ipython-input-179-29ba9a3b4549>\u001b[0m in \u001b[0;36m<module>\u001b[0;34m()\u001b[0m\n\u001b[1;32m      3\u001b[0m \u001b[0;32mfor\u001b[0m \u001b[0mi\u001b[0m \u001b[0;32min\u001b[0m \u001b[0mrange\u001b[0m\u001b[0;34m(\u001b[0m\u001b[0;36m1\u001b[0m\u001b[0;34m,\u001b[0m\u001b[0;36m1000000\u001b[0m\u001b[0;34m)\u001b[0m\u001b[0;34m:\u001b[0m\u001b[0;34m\u001b[0m\u001b[0m\n\u001b[1;32m      4\u001b[0m \u001b[0;34m\u001b[0m\u001b[0m\n\u001b[0;32m----> 5\u001b[0;31m   \u001b[0mnow_sharpe\u001b[0m \u001b[0;34m=\u001b[0m\u001b[0mget_sharpe\u001b[0m\u001b[0;34m(\u001b[0m\u001b[0mi\u001b[0m\u001b[0;34m*\u001b[0m\u001b[0;36m0.0000001\u001b[0m\u001b[0;34m)\u001b[0m\u001b[0;34m\u001b[0m\u001b[0m\n\u001b[0m\u001b[1;32m      6\u001b[0m \u001b[0;34m\u001b[0m\u001b[0m\n\u001b[1;32m      7\u001b[0m   \u001b[0;32mif\u001b[0m\u001b[0;34m(\u001b[0m\u001b[0mnow_sharpe\u001b[0m \u001b[0;34m>\u001b[0m \u001b[0mmax_sharpe\u001b[0m\u001b[0;34m)\u001b[0m\u001b[0;34m:\u001b[0m\u001b[0;34m\u001b[0m\u001b[0m\n",
            "\u001b[0;32m<ipython-input-175-9bebe989b9e2>\u001b[0m in \u001b[0;36mget_sharpe\u001b[0;34m(threshold)\u001b[0m\n\u001b[1;32m     19\u001b[0m         \u001b[0;32mif\u001b[0m\u001b[0;34m(\u001b[0m\u001b[0;34m(\u001b[0m\u001b[0mpredicted_array\u001b[0m\u001b[0;34m[\u001b[0m\u001b[0mi\u001b[0m\u001b[0;34m+\u001b[0m\u001b[0;36m1\u001b[0m\u001b[0;34m]\u001b[0m\u001b[0;34m-\u001b[0m\u001b[0mpredicted_array\u001b[0m\u001b[0;34m[\u001b[0m\u001b[0mi\u001b[0m\u001b[0;34m]\u001b[0m\u001b[0;34m)\u001b[0m \u001b[0;34m>\u001b[0m \u001b[0mthreshold\u001b[0m\u001b[0;34m)\u001b[0m\u001b[0;34m:\u001b[0m\u001b[0;34m\u001b[0m\u001b[0m\n\u001b[1;32m     20\u001b[0m             \u001b[0mactions_\u001b[0m\u001b[0;34m.\u001b[0m\u001b[0mappend\u001b[0m\u001b[0;34m(\u001b[0m\u001b[0;36m1\u001b[0m\u001b[0;34m)\u001b[0m\u001b[0;34m\u001b[0m\u001b[0m\n\u001b[0;32m---> 21\u001b[0;31m         \u001b[0;32melif\u001b[0m\u001b[0;34m(\u001b[0m\u001b[0mpredicted_array\u001b[0m\u001b[0;34m[\u001b[0m\u001b[0mi\u001b[0m\u001b[0;34m+\u001b[0m\u001b[0;36m1\u001b[0m\u001b[0;34m]\u001b[0m\u001b[0;34m-\u001b[0m\u001b[0mpredicted_array\u001b[0m\u001b[0;34m[\u001b[0m\u001b[0mi\u001b[0m\u001b[0;34m]\u001b[0m \u001b[0;34m<\u001b[0m \u001b[0mthreshold\u001b[0m\u001b[0;34m)\u001b[0m\u001b[0;34m:\u001b[0m\u001b[0;34m\u001b[0m\u001b[0m\n\u001b[0m\u001b[1;32m     22\u001b[0m             \u001b[0mactions_\u001b[0m\u001b[0;34m.\u001b[0m\u001b[0mappend\u001b[0m\u001b[0;34m(\u001b[0m\u001b[0;34m-\u001b[0m\u001b[0;36m1\u001b[0m\u001b[0;34m)\u001b[0m\u001b[0;34m\u001b[0m\u001b[0m\n\u001b[1;32m     23\u001b[0m         \u001b[0;32melse\u001b[0m\u001b[0;34m:\u001b[0m\u001b[0;34m\u001b[0m\u001b[0m\n",
            "\u001b[0;31mKeyboardInterrupt\u001b[0m: "
          ]
        }
      ]
    },
    {
      "metadata": {
        "id": "qjSU5GqBFzyv",
        "colab_type": "code",
        "colab": {
          "base_uri": "https://localhost:8080/",
          "height": 34
        },
        "outputId": "42a6194c-2f17-4d50-c7ed-92c8bcf510ae"
      },
      "cell_type": "code",
      "source": [
        "get_sharpe(0.00047349999999999996)"
      ],
      "execution_count": 181,
      "outputs": [
        {
          "output_type": "execute_result",
          "data": {
            "text/plain": [
              "0.032039987513680285"
            ]
          },
          "metadata": {
            "tags": []
          },
          "execution_count": 181
        }
      ]
    },
    {
      "metadata": {
        "id": "5VoXlrisF1Td",
        "colab_type": "code",
        "colab": {
          "base_uri": "https://localhost:8080/",
          "height": 34
        },
        "outputId": "8f13cb10-de34-4a99-d677-db7b04a1ecea"
      },
      "cell_type": "code",
      "source": [
        "def trades_(actions):\n",
        "  trades = 0\n",
        "  past_action = actions[0]\n",
        "  for action in actions:\n",
        "    \n",
        "    if action != past_action:\n",
        "      trades += 1\n",
        "  return trades\n",
        "\n",
        "trades_(actions_)"
      ],
      "execution_count": 182,
      "outputs": [
        {
          "output_type": "execute_result",
          "data": {
            "text/plain": [
              "594"
            ]
          },
          "metadata": {
            "tags": []
          },
          "execution_count": 182
        }
      ]
    },
    {
      "metadata": {
        "id": "wjict1FDGpUH",
        "colab_type": "text"
      },
      "cell_type": "markdown",
      "source": [
        ""
      ]
    },
    {
      "metadata": {
        "id": "-lK0JvL1Rp9f",
        "colab_type": "code",
        "colab": {}
      },
      "cell_type": "code",
      "source": [
        "#Let's Say you require only fixed number of trades\n",
        "#this function can be used.\n",
        "def fixed_number_of_trades(trades):\n",
        "  threshold = 0.0001\n",
        "  decay = 1e-4\n",
        "  \n",
        "  sharpe_,  actions = get_sharpe(threshold)\n",
        "  no_trades = trades_(actions)\n",
        "  \n",
        "  while( no_trades > trades*(1.1) or no_trades < trades*(-1.1)):\n",
        "        threshold = threshold+decay\n",
        "        sharpe_, actions = get_sharpe(threshold)\n",
        "        no_trades = trades_(actions)\n",
        "        print(\"Number of trades : \",no_trades)\n",
        "        print(\"Threshold \",threshold)\n",
        "  "
      ],
      "execution_count": 0,
      "outputs": []
    },
    {
      "metadata": {
        "id": "ofD1MMrXUp4-",
        "colab_type": "code",
        "colab": {
          "base_uri": "https://localhost:8080/",
          "height": 493
        },
        "outputId": "c6ca4ba3-9f1b-45b5-a4ba-03002ba721d2"
      },
      "cell_type": "code",
      "source": [
        "fixed_number_of_trades(300)"
      ],
      "execution_count": 199,
      "outputs": [
        {
          "output_type": "stream",
          "text": [
            "('Number of trades : ', 2069)\n",
            "('Threshold ', 0.0002)\n",
            "('Number of trades : ', 1764)\n",
            "('Threshold ', 0.00030000000000000003)\n",
            "('Number of trades : ', 1533)\n",
            "('Threshold ', 0.0004)\n",
            "('Number of trades : ', 1298)\n",
            "('Threshold ', 0.0005)\n",
            "('Number of trades : ', 1111)\n",
            "('Threshold ', 0.0006000000000000001)\n",
            "('Number of trades : ', 933)\n",
            "('Threshold ', 0.0007000000000000001)\n",
            "('Number of trades : ', 790)\n",
            "('Threshold ', 0.0008000000000000001)\n",
            "('Number of trades : ', 675)\n",
            "('Threshold ', 0.0009000000000000002)\n",
            "('Number of trades : ', 594)\n",
            "('Threshold ', 0.0010000000000000002)\n",
            "('Number of trades : ', 513)\n",
            "('Threshold ', 0.0011000000000000003)\n",
            "('Number of trades : ', 439)\n",
            "('Threshold ', 0.0012000000000000003)\n",
            "('Number of trades : ', 386)\n",
            "('Threshold ', 0.0013000000000000004)\n",
            "('Number of trades : ', 337)\n",
            "('Threshold ', 0.0014000000000000004)\n",
            "('Number of trades : ', 287)\n",
            "('Threshold ', 0.0015000000000000005)\n"
          ],
          "name": "stdout"
        }
      ]
    }
  ]
}